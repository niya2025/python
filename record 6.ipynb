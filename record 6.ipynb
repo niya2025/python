{
 "cells": [
  {
   "cell_type": "code",
   "execution_count": 11,
   "id": "c4cd67e5",
   "metadata": {},
   "outputs": [
    {
     "name": "stdout",
     "output_type": "stream",
     "text": [
      "Enter the numbers:5 6 7 8 9 4\n",
      "tuple: (5, 6, 7, 8, 9, 4)\n",
      "3rd element: 7\n",
      "3rd element from last: 8\n"
     ]
    }
   ],
   "source": [
    "\n",
    "num=input(\"Enter the numbers:\")\n",
    "t=tuple(map(int,num.split()))\n",
    "print(\"tuple:\",t)\n",
    "print(\"3rd element:\",t[2])\n",
    "print(\"3rd element from last:\",t[-3])"
   ]
  },
  {
   "cell_type": "code",
   "execution_count": 10,
   "id": "d4e0018f",
   "metadata": {},
   "outputs": [
    {
     "name": "stdout",
     "output_type": "stream",
     "text": [
      "Enter the numbers:5 6 7 8 \n",
      "tuple: (5, 6, 7, 8)\n",
      "Average: 6.5\n"
     ]
    }
   ],
   "source": [
    "num=input(\"Enter the numbers:\")\n",
    "t=tuple(map(int,num.split()))\n",
    "average=sum(t)/len(t)\n",
    "print(\"tuple:\",t)\n",
    "print(\"Average:\",average)"
   ]
  },
  {
   "cell_type": "code",
   "execution_count": null,
   "id": "97cf3991",
   "metadata": {},
   "outputs": [],
   "source": []
  },
  {
   "cell_type": "code",
   "execution_count": null,
   "id": "8e1ed73f",
   "metadata": {},
   "outputs": [],
   "source": []
  }
 ],
 "metadata": {
  "kernelspec": {
   "display_name": "Python 3 (ipykernel)",
   "language": "python",
   "name": "python3"
  },
  "language_info": {
   "codemirror_mode": {
    "name": "ipython",
    "version": 3
   },
   "file_extension": ".py",
   "mimetype": "text/x-python",
   "name": "python",
   "nbconvert_exporter": "python",
   "pygments_lexer": "ipython3",
   "version": "3.11.4"
  }
 },
 "nbformat": 4,
 "nbformat_minor": 5
}
