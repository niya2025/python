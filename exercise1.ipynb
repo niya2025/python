{
 "cells": [
  {
   "cell_type": "code",
   "execution_count": 1,
   "id": "a2972ae2",
   "metadata": {},
   "outputs": [
    {
     "name": "stdout",
     "output_type": "stream",
     "text": [
      "Enter the base of the triangle4\n",
      "Enter the height of the triangle6\n",
      "the area of the right angled triangle: 12.0\n"
     ]
    }
   ],
   "source": [
    "#program to compute the area of the right angled triangle\n",
    "import math\n",
    "base=float(input(\"Enter the base of the triangle\"))\n",
    "height=float(input(\"Enter the height of the triangle\"))\n",
    "area=1/2*base*height\n",
    "print(\"the area of the right angled triangle:\",area)"
   ]
  },
  {
   "cell_type": "code",
   "execution_count": 3,
   "id": "e2cf6a88",
   "metadata": {},
   "outputs": [
    {
     "name": "stdout",
     "output_type": "stream",
     "text": [
      "Hello,niya!\n"
     ]
    }
   ],
   "source": [
    "#program to print hello,niya!\n",
    "print(\"Hello,niya!\")"
   ]
  },
  {
   "cell_type": "code",
   "execution_count": 9,
   "id": "6a06db44",
   "metadata": {},
   "outputs": [
    {
     "name": "stdout",
     "output_type": "stream",
     "text": [
      "Enter an integer8\n",
      "The number is: 8\n",
      "The previous number: 7\n",
      "the next number is: 9\n"
     ]
    }
   ],
   "source": [
    "#program to read a integer and print previous and next number\n",
    "import math\n",
    "num=int(input(\"Enter an integer\"))\n",
    "previousnumber=num-1\n",
    "nextnumber=num+1\n",
    "print(\"The number is:\",num)\n",
    "print(\"The previous number:\",previousnumber)\n",
    "print(\"the next number is:\",nextnumber)"
   ]
  },
  {
   "cell_type": "code",
   "execution_count": 10,
   "id": "3a791a94",
   "metadata": {},
   "outputs": [
    {
     "name": "stdout",
     "output_type": "stream",
     "text": [
      "enter the princple amount:56\n",
      "enter the rate of intrest:45\n",
      "enter the time(in years):2008\n",
      "the simple intrest is: 50601.6\n"
     ]
    }
   ],
   "source": [
    "#program for computing simple intrest\n",
    "p=float(input(\"enter the princple amount:\"))\n",
    "r=float(input(\"enter the rate of intrest:\"))\n",
    "t=float(input(\"enter the time(in years):\"))\n",
    "si=(p*r*t)/100\n",
    "print(\"the simple intrest is:\",si)"
   ]
  },
  {
   "cell_type": "code",
   "execution_count": null,
   "id": "3fa38976",
   "metadata": {},
   "outputs": [],
   "source": []
  }
 ],
 "metadata": {
  "kernelspec": {
   "display_name": "Python 3 (ipykernel)",
   "language": "python",
   "name": "python3"
  },
  "language_info": {
   "codemirror_mode": {
    "name": "ipython",
    "version": 3
   },
   "file_extension": ".py",
   "mimetype": "text/x-python",
   "name": "python",
   "nbconvert_exporter": "python",
   "pygments_lexer": "ipython3",
   "version": "3.11.4"
  }
 },
 "nbformat": 4,
 "nbformat_minor": 5
}
