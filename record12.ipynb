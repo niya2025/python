{
 "cells": [
  {
   "cell_type": "code",
   "execution_count": 11,
   "id": "845440b4",
   "metadata": {},
   "outputs": [
    {
     "name": "stdout",
     "output_type": "stream",
     "text": [
      "Enter some integer numbers:4,8,9,5,-7\n",
      "positive numbers: [4, 8, 9, 5]\n"
     ]
    }
   ],
   "source": [
    "#list comprehensions\n",
    "numbers=list(map(int,input(\"Enter some integer numbers:\").split(\",\")))\n",
    "positive_num=[x for x in numbers if x>0]\n",
    "print(\"positive numbers:\",positive_num)\n"
   ]
  },
  {
   "cell_type": "code",
   "execution_count": 7,
   "id": "c0c07842",
   "metadata": {},
   "outputs": [
    {
     "name": "stdout",
     "output_type": "stream",
     "text": [
      "Enter numbers separated by space: 6 7 8\n",
      "Squares: [36, 49, 64]\n"
     ]
    }
   ],
   "source": [
    "# Square of n numbers\n",
    "numbers = list(map(int, input(\"Enter numbers : \").split()))\n",
    "squares = [i**2 for i in numbers]\n",
    "print(\"Squares:\", squares)\n"
   ]
  },
  {
   "cell_type": "code",
   "execution_count": 10,
   "id": "4a84e50d",
   "metadata": {},
   "outputs": [
    {
     "name": "stdout",
     "output_type": "stream",
     "text": [
      "Enter a word: HELLO NIYA\n",
      "Vowels in the word: ['e', 'o', 'i', 'a']\n"
     ]
    }
   ],
   "source": [
    "# Extract vowels from a word\n",
    "word = input(\"Enter a word: \").lower() \n",
    "vowels = \"aeiou\"\n",
    "vowel_list = [char for char in word if char in vowels]\n",
    "print(\"Vowels in the word:\", vowel_list)\n"
   ]
  },
  {
   "cell_type": "code",
   "execution_count": 9,
   "id": "bd69d8bf",
   "metadata": {},
   "outputs": [
    {
     "name": "stdout",
     "output_type": "stream",
     "text": [
      "Enter a word: python\n",
      "Ordinal values: [112, 121, 116, 104, 111, 110]\n"
     ]
    }
   ],
   "source": [
    "# Ordinal value of each character in a word\n",
    "word = input(\"Enter a word: \")\n",
    "ordinal_values = [ord(char) for char in word]\n",
    "print(\"Ordinal values:\", ordinal_values)\n"
   ]
  },
  {
   "cell_type": "code",
   "execution_count": null,
   "id": "a10f618e",
   "metadata": {},
   "outputs": [],
   "source": []
  }
 ],
 "metadata": {
  "kernelspec": {
   "display_name": "Python 3 (ipykernel)",
   "language": "python",
   "name": "python3"
  },
  "language_info": {
   "codemirror_mode": {
    "name": "ipython",
    "version": 3
   },
   "file_extension": ".py",
   "mimetype": "text/x-python",
   "name": "python",
   "nbconvert_exporter": "python",
   "pygments_lexer": "ipython3",
   "version": "3.11.4"
  }
 },
 "nbformat": 4,
 "nbformat_minor": 5
}
