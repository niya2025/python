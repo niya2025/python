{
 "cells": [
  {
   "cell_type": "code",
   "execution_count": 3,
   "id": "7c55af83",
   "metadata": {},
   "outputs": [
    {
     "name": "stdout",
     "output_type": "stream",
     "text": [
      "enter a line of text:kp is my father my fathers name is kp\n",
      "father : 1\n",
      "my : 2\n",
      "name : 1\n",
      "fathers : 1\n",
      "is : 2\n",
      "kp : 2\n"
     ]
    }
   ],
   "source": [
    "#count the occurrence of each word in a line of text\n",
    "words=input(\"enter a line of text:\").split()\n",
    "words_1=set(words)\n",
    "for word in words_1:\n",
    "    count=words.count(word)\n",
    "    print(word,\":\",count)"
   ]
  },
  {
   "cell_type": "code",
   "execution_count": 9,
   "id": "f74c9ef3",
   "metadata": {},
   "outputs": [
    {
     "name": "stdout",
     "output_type": "stream",
     "text": [
      "Enter list of integers: 45,88,100,101\n",
      "Result is: [45, 88, 100, 'over']\n"
     ]
    }
   ],
   "source": [
    "#print over if the value is greater than 100\n",
    "num = input(\"Enter list of integers: \").split(\",\")\n",
    "num_1 = []\n",
    "for n in num:\n",
    "    n = int(n)\n",
    "    if n > 100:\n",
    "        num_1.append(\"over\")\n",
    "    else:\n",
    "        num_1.append(n)\n",
    "\n",
    "print(\"Result is:\", num_1)\n"
   ]
  },
  {
   "cell_type": "code",
   "execution_count": 7,
   "id": "b8324eff",
   "metadata": {},
   "outputs": [
    {
     "name": "stdout",
     "output_type": "stream",
     "text": [
      "Enter the first name:niya,liya,diya\n",
      "Total occurence is: 3\n"
     ]
    }
   ],
   "source": [
    "#list of first name count the occurrence of a within list\n",
    "names=input(\"Enter the first name:\").split(\",\")\n",
    "count=0\n",
    "for name in names:\n",
    "    name_1=name.lower()\n",
    "    count=count+name_1.count(\"a\")\n",
    "print(\"Total occurence is:\",count)"
   ]
  },
  {
   "cell_type": "code",
   "execution_count": 18,
   "id": "a425a1d5",
   "metadata": {},
   "outputs": [
    {
     "name": "stdout",
     "output_type": "stream",
     "text": [
      "enter first number:5\n",
      "enter second number:8\n",
      "gcd is 1\n",
      "enter some integers= 5 6 7 8\n",
      "entered integers is=  [5, 6, 7, 8]\n",
      "after removing even number is= [5, 7]\n"
     ]
    }
   ],
   "source": [
    "#gcd of 2 numbers\n",
    "n1=int(input(\"enter first number:\"))\n",
    "n2=int(input(\"enter second number:\"))\n",
    "while n2!=0:\n",
    "    n1,n2=n2,n1%n2\n",
    "print(\"gcd is\",n1)#remove even and print \n",
    "a=list(map(int,input(\"enter some integers= \").split()))\n",
    "b=[]\n",
    "print(\"entered integers is= \",a)\n",
    "for n in a:\n",
    "    if n%2!=0:\n",
    "            b.append(n)\n",
    "print(\"after removing even number is=\",b)        "
   ]
  },
  {
   "cell_type": "code",
   "execution_count": 16,
   "id": "3d9ee645",
   "metadata": {},
   "outputs": [
    {
     "name": "stdout",
     "output_type": "stream",
     "text": [
      "enter some integers= 4 5 6 7\n",
      "entered integers is=  [4, 5, 6, 7]\n",
      "odd number is= [5, 7]\n"
     ]
    }
   ],
   "source": [
    "#remove even and print \n",
    "a=list(map(int,input(\"enter some integers= \").split()))\n",
    "b=[]\n",
    "print(\"entered integers is= \",a)\n",
    "for n in a:\n",
    "    if n%2!=0:\n",
    "            b.append(n)\n",
    "print(\"odd number is=\",b)        "
   ]
  },
  {
   "cell_type": "code",
   "execution_count": 11,
   "id": "86c3686b",
   "metadata": {},
   "outputs": [
    {
     "name": "stdout",
     "output_type": "stream",
     "text": [
      "enter a number8\n",
      "factorial of number 8 is: 40320\n"
     ]
    }
   ],
   "source": [
    "#6. Program to find the factorial of a number\n",
    "num=int(input(\"enter a number\"))\n",
    "fact=1\n",
    "for i in range(1,num+1):\n",
    "    fact=fact*i\n",
    "print(\"factorial of number\",num,\"is:\",fact)"
   ]
  },
  {
   "cell_type": "code",
   "execution_count": 7,
   "id": "ef6e3c20",
   "metadata": {},
   "outputs": [
    {
     "name": "stdout",
     "output_type": "stream",
     "text": [
      "Enter Number: 6\n",
      "Fibonacci series:\n",
      "0 1 1 2 3 5 "
     ]
    }
   ],
   "source": [
    "#7. Generate Fibonacci series of N terms\n",
    "n = int(input(\"Enter Number: \"))\n",
    "a, b = 0, 1\n",
    "print(\"Fibonacci series:\")\n",
    "for _ in range(n):\n",
    "    print(a, end=\" \")\n",
    "    a, b = b, a + b"
   ]
  },
  {
   "cell_type": "code",
   "execution_count": 13,
   "id": "e12853de",
   "metadata": {},
   "outputs": [
    {
     "name": "stdout",
     "output_type": "stream",
     "text": [
      "Enter numbers:2 1 3\n",
      "the sum of all numbers is: 6\n"
     ]
    }
   ],
   "source": [
    "#8. Find the sum of all items in a list\n",
    "numbers=input(\"Enter numbers:\")\n",
    "numbers_list=[int(num)for num in numbers.split()]\n",
    "total=0\n",
    "for num in numbers_list:\n",
    "    total+=num\n",
    "print(\"the sum of all numbers is:\",total)\n"
   ]
  },
  {
   "cell_type": "code",
   "execution_count": 4,
   "id": "d8e54fe0",
   "metadata": {},
   "outputs": [
    {
     "name": "stdout",
     "output_type": "stream",
     "text": [
      "Enter the start of range : 1000\n",
      "Enter the end of range : 9000\n",
      "Numbers with all even digits and perfect squares: [4624, 6084, 6400, 8464]\n"
     ]
    }
   ],
   "source": [
    "#9. Generate a list of four digit numbers in a given range with all their digits even and the number is a perfect square.\n",
    "import math\n",
    "start = int(input(\"Enter the start of range : \"))\n",
    "end = int(input(\"Enter the end of range : \"))\n",
    "result = []\n",
    "for num in range(start, end + 1):\n",
    "    if all(int(digit) % 2 == 0 for digit in str(num)):\n",
    "        if int(math.isqrt(num)) ** 2 == num:\n",
    "            result.append(num)\n",
    "print(\"Numbers with all even digits and perfect squares:\", result)"
   ]
  },
  {
   "cell_type": "code",
   "execution_count": 3,
   "id": "54880e47",
   "metadata": {},
   "outputs": [
    {
     "name": "stdout",
     "output_type": "stream",
     "text": [
      "Enter a string : jupyter\n",
      "Character frequency : {'j': 1, 'u': 1, 'p': 1, 'y': 1, 't': 1, 'e': 1, 'r': 1}\n"
     ]
    }
   ],
   "source": [
    "#Count the number of characters (character frequency) in a string.\n",
    "text = input(\"Enter a string : \")\n",
    "txtcount = {}\n",
    "for ch in text:\n",
    "    txtcount[ch] = txtcount.get(ch, 0) + 1\n",
    "print(\"Character frequency :\", txtcount)"
   ]
  },
  {
   "cell_type": "code",
   "execution_count": 18,
   "id": "701398b3",
   "metadata": {},
   "outputs": [
    {
     "name": "stdout",
     "output_type": "stream",
     "text": [
      "Enter number: 9\n",
      "1 \n",
      "2 4 \n",
      "3 6 9 \n",
      "4 8 12 16 \n",
      "5 10 15 20 25 \n",
      "6 12 18 24 30 36 \n",
      "7 14 21 28 35 42 49 \n",
      "8 16 24 32 40 48 56 64 \n",
      "9 18 27 36 45 54 63 72 81 \n"
     ]
    }
   ],
   "source": [
    "# Display the given pyramid with step number accepted from user.\n",
    "n = int(input(\"Enter number: \"))\n",
    "\n",
    "for i in range(1, n + 1):\n",
    "    for j in range(1, i + 1):\n",
    "        print(i * j, end=\" \")\n",
    "    print()"
   ]
  },
  {
   "cell_type": "code",
   "execution_count": null,
   "id": "ed2bb442",
   "metadata": {},
   "outputs": [],
   "source": []
  }
 ],
 "metadata": {
  "kernelspec": {
   "display_name": "Python 3 (ipykernel)",
   "language": "python",
   "name": "python3"
  },
  "language_info": {
   "codemirror_mode": {
    "name": "ipython",
    "version": 3
   },
   "file_extension": ".py",
   "mimetype": "text/x-python",
   "name": "python",
   "nbconvert_exporter": "python",
   "pygments_lexer": "ipython3",
   "version": "3.11.4"
  }
 },
 "nbformat": 4,
 "nbformat_minor": 5
}
