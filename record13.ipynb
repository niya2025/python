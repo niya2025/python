{
 "cells": [
  {
   "cell_type": "code",
   "execution_count": 5,
   "id": "92e5263d",
   "metadata": {},
   "outputs": [
    {
     "name": "stdout",
     "output_type": "stream",
     "text": [
      "Enter words: hello python\n",
      "Length of the longest word: 6\n"
     ]
    }
   ],
   "source": [
    "# Function to find length of longest word\n",
    "def longest_word_length(words):\n",
    "    return max(len(word) for word in words)\n",
    "words = input(\"Enter words: \").split()\n",
    "longest_length = longest_word_length(words)\n",
    "print(\"Length of the longest word:\", longest_length)\n"
   ]
  },
  {
   "cell_type": "code",
   "execution_count": 6,
   "id": "a6e5e27a",
   "metadata": {},
   "outputs": [
    {
     "name": "stdout",
     "output_type": "stream",
     "text": [
      "Enter your integer: 7\n",
      "*\n",
      "**\n",
      "***\n",
      "****\n",
      "*****\n",
      "******\n",
      "*******\n",
      "******\n",
      "*****\n",
      "****\n",
      "***\n",
      "**\n",
      "*\n"
     ]
    }
   ],
   "source": [
    "# Function to print the pattern\n",
    "def print_star_pattern(n):\n",
    "    for i in range(1, n + 1):\n",
    "        print('*' * i)\n",
    "    for i in range(n - 1, 0, -1):\n",
    "        print('*' * i)\n",
    "num = int(input(\"Enter your integer: \"))\n",
    "print_star_pattern(num)\n"
   ]
  },
  {
   "cell_type": "code",
   "execution_count": 7,
   "id": "c70a426e",
   "metadata": {},
   "outputs": [
    {
     "name": "stdout",
     "output_type": "stream",
     "text": [
      "Enter a number: 9\n",
      "Factors of 9 are: [1, 3, 9]\n"
     ]
    }
   ],
   "source": [
    "# Function to generate all factors of a number\n",
    "def generate_factors(num):\n",
    "    return [i for i in range(1, num + 1) if num % i == 0]\n",
    "number = int(input(\"Enter a number: \"))\n",
    "factors = generate_factors(number)\n",
    "print(\"Factors of\", number, \"are:\", factors)\n"
   ]
  },
  {
   "cell_type": "code",
   "execution_count": 8,
   "id": "cca5ed5a",
   "metadata": {},
   "outputs": [
    {
     "name": "stdout",
     "output_type": "stream",
     "text": [
      "Enter the side of the square: 5\n",
      "Area of square: 25.0\n",
      "\n",
      "Enter the length of the rectangle: 7\n",
      "Enter the breadth of the rectangle: 8\n",
      "Area of rectangle: 56.0\n",
      "\n",
      "Enter the base of the triangle: 5\n",
      "Enter the height of the triangle: 6\n",
      "Area of triangle: 15.0\n"
     ]
    }
   ],
   "source": [
    "# Function to calculate area of a square\n",
    "def area_square(side):\n",
    "    return side ** 2\n",
    "# Function to calculate area of a rectangle\n",
    "def area_rectangle(length, breadth):\n",
    "    return length * breadth\n",
    "# Function to calculate area of a triangle\n",
    "def area_triangle(base, height):\n",
    "    return 0.5 * base * height\n",
    "# Input and output\n",
    "side = float(input(\"Enter the side of the square: \"))\n",
    "print(\"Area of square:\", area_square(side))\n",
    "length = float(input(\"\\nEnter the length of the rectangle: \"))\n",
    "breadth = float(input(\"Enter the breadth of the rectangle: \"))\n",
    "print(\"Area of rectangle:\", area_rectangle(length, breadth))\n",
    "base = float(input(\"\\nEnter the base of the triangle: \"))\n",
    "height = float(input(\"Enter the height of the triangle: \"))\n",
    "print(\"Area of triangle:\", area_triangle(base, height))\n"
   ]
  },
  {
   "cell_type": "code",
   "execution_count": null,
   "id": "7be0b12e",
   "metadata": {},
   "outputs": [],
   "source": []
  }
 ],
 "metadata": {
  "kernelspec": {
   "display_name": "Python 3 (ipykernel)",
   "language": "python",
   "name": "python3"
  },
  "language_info": {
   "codemirror_mode": {
    "name": "ipython",
    "version": 3
   },
   "file_extension": ".py",
   "mimetype": "text/x-python",
   "name": "python",
   "nbconvert_exporter": "python",
   "pygments_lexer": "ipython3",
   "version": "3.11.4"
  }
 },
 "nbformat": 4,
 "nbformat_minor": 5
}
