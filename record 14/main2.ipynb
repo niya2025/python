{
 "cells": [
  {
   "cell_type": "code",
   "execution_count": null,
   "id": "3834200c-8c09-4cd3-bc10-ad09f74b3162",
   "metadata": {},
   "outputs": [
    {
     "name": "stdout",
     "output_type": "stream",
     "text": [
      "1. Rectangle\n",
      "2. Circle\n",
      "3. Exit\n",
      "Enter your choice: 1\n",
      "Enter length: 8\n",
      "Enter breadth: 5\n",
      "Area: 40\n",
      "Perimeter: 80\n",
      "1. Rectangle\n",
      "2. Circle\n",
      "3. Exit\n",
      "Enter your choice: 2\n",
      "Enter radius: 2\n",
      "area: 12.57\n",
      "perimeter: 12.57\n",
      "1. Rectangle\n",
      "2. Circle\n",
      "3. Exit\n"
     ]
    }
   ],
   "source": [
    "import rectangle\n",
    "import circle\n",
    "\n",
    "while True:\n",
    "    print(\"1. Rectangle\\n2. Circle\\n3. Exit\")\n",
    "    ch = int(input(\"Enter your choice: \"))\n",
    "\n",
    "    if ch == 1:\n",
    "        l = int(input(\"Enter length: \"))\n",
    "        b = int(input(\"Enter breadth: \"))\n",
    "        print(\"Area:\", rectangle.area(l, b))\n",
    "        print(\"Perimeter:\", rectangle.perimeter(l, b))\n",
    "\n",
    "    elif ch == 2:\n",
    "        r = float(input(\"Enter radius: \"))\n",
    "        print(\"area:\", round(circle.area(r), 2))\n",
    "        print(\"perimeter:\", round(circle.perimeter(r), 2))\n",
    "\n",
    "    elif ch == 3:\n",
    "        print(\"Exiting...\")\n",
    "        break;\n"
   ]
  },
  {
   "cell_type": "code",
   "execution_count": null,
   "id": "23e36d45-70ba-411b-ab67-986c77fe5be1",
   "metadata": {},
   "outputs": [],
   "source": []
  },
  {
   "cell_type": "code",
   "execution_count": null,
   "id": "cb2de306-c5a6-422a-b888-3daffdefbc32",
   "metadata": {},
   "outputs": [],
   "source": []
  }
 ],
 "metadata": {
  "kernelspec": {
   "display_name": "Python 3 (ipykernel)",
   "language": "python",
   "name": "python3"
  },
  "language_info": {
   "codemirror_mode": {
    "name": "ipython",
    "version": 3
   },
   "file_extension": ".py",
   "mimetype": "text/x-python",
   "name": "python",
   "nbconvert_exporter": "python",
   "pygments_lexer": "ipython3",
   "version": "3.11.4"
  }
 },
 "nbformat": 4,
 "nbformat_minor": 5
}
