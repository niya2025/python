{
 "cells": [
  {
   "cell_type": "code",
   "execution_count": 5,
   "id": "7673f435",
   "metadata": {},
   "outputs": [
    {
     "name": "stdout",
     "output_type": "stream",
     "text": [
      "Enter an number:2\n",
      "2 + 22 + 222 + 246\n"
     ]
    }
   ],
   "source": [
    "#accept integer and compute n+nn+nnn\n",
    "num=int(input(\"Enter an number:\"))\n",
    "n=num\n",
    "nn=n*10+n\n",
    "nnn=n*100+nn\n",
    "sum=n+nn+nnn      \n",
    "print(n,\"+\",nn,\"+\",nnn,\"+\",sum)"
   ]
  },
  {
   "cell_type": "markdown",
   "id": "06faa2cb",
   "metadata": {},
   "source": [
    "import math"
   ]
  },
  {
   "cell_type": "code",
   "execution_count": 7,
   "id": "b810f2d3",
   "metadata": {},
   "outputs": [
    {
     "name": "stdout",
     "output_type": "stream",
     "text": [
      "Enter the radiusof the circle:2\n",
      "The area of the circle: 12.56\n"
     ]
    }
   ],
   "source": [
    "#area of the circle\n",
    "import math\n",
    "radius=float(input(\"Enter the radiusof the circle:\"))\n",
    "pi=3.14\n",
    "area=pi*radius*radius\n",
    "print(\"The area of the circle:\",area)"
   ]
  },
  {
   "cell_type": "code",
   "execution_count": null,
   "id": "378aa51c",
   "metadata": {},
   "outputs": [],
   "source": []
  }
 ],
 "metadata": {
  "kernelspec": {
   "display_name": "Python 3 (ipykernel)",
   "language": "python",
   "name": "python3"
  },
  "language_info": {
   "codemirror_mode": {
    "name": "ipython",
    "version": 3
   },
   "file_extension": ".py",
   "mimetype": "text/x-python",
   "name": "python",
   "nbconvert_exporter": "python",
   "pygments_lexer": "ipython3",
   "version": "3.11.4"
  }
 },
 "nbformat": 4,
 "nbformat_minor": 5
}
