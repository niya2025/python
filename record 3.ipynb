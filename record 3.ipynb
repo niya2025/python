{
 "cells": [
  {
   "cell_type": "code",
   "execution_count": 2,
   "id": "cbb33006",
   "metadata": {},
   "outputs": [
    {
     "name": "stdout",
     "output_type": "stream",
     "text": [
      "enter first number3\n",
      "enter second number55\n",
      "enter third number77\n",
      "The biggest number: 77\n"
     ]
    }
   ],
   "source": [
    "#bigest of three numbers\n",
    "a=int(input(\"enter first number\"))\n",
    "b=int(input(\"enter second number\"))\n",
    "c=int(input(\"enter third number\"))\n",
    "biggest=max(a,b,c)\n",
    "print(\"The biggest number:\",biggest)"
   ]
  },
  {
   "cell_type": "code",
   "execution_count": null,
   "id": "abbd4557",
   "metadata": {},
   "outputs": [],
   "source": []
  }
 ],
 "metadata": {
  "kernelspec": {
   "display_name": "Python 3 (ipykernel)",
   "language": "python",
   "name": "python3"
  },
  "language_info": {
   "codemirror_mode": {
    "name": "ipython",
    "version": 3
   },
   "file_extension": ".py",
   "mimetype": "text/x-python",
   "name": "python",
   "nbconvert_exporter": "python",
   "pygments_lexer": "ipython3",
   "version": "3.11.4"
  }
 },
 "nbformat": 4,
 "nbformat_minor": 5
}
