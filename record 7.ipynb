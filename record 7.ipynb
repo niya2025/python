{
 "cells": [
  {
   "cell_type": "code",
   "execution_count": 1,
   "id": "6f357195",
   "metadata": {},
   "outputs": [
    {
     "name": "stdout",
     "output_type": "stream",
     "text": [
      "even numbers: [2, 4, 6, 8, 10, 12, 14, 16, 18, 20, 22, 24]\n",
      "sum of even numbers: 156\n"
     ]
    }
   ],
   "source": [
    "# even numbers and sum\n",
    "even=list(range(2,26,2))\n",
    "print(\"even numbers:\",even)\n",
    "total=sum(range(2,26,2))\n",
    "print(\"sum of even numbers:\",total)"
   ]
  },
  {
   "cell_type": "code",
   "execution_count": 1,
   "id": "e8c98c12",
   "metadata": {},
   "outputs": [
    {
     "name": "stdout",
     "output_type": "stream",
     "text": [
      "enter a range=4\n",
      "the number in reverse is (4, 3, 2, 1)\n",
      "The sum of the reversed numbers= 10\n"
     ]
    }
   ],
   "source": [
    "#print in reverse and calculate sum\n",
    "num=int(input(\"enter a range=\"))\n",
    "a=(tuple(range(num,0,-1)))\n",
    "print(\"the number in reverse is\",a)\n",
    "s=sum(a)\n",
    "print(\"The sum of the reversed numbers=\",s)"
   ]
  },
  {
   "cell_type": "code",
   "execution_count": null,
   "id": "44641fce",
   "metadata": {},
   "outputs": [],
   "source": []
  }
 ],
 "metadata": {
  "kernelspec": {
   "display_name": "Python 3 (ipykernel)",
   "language": "python",
   "name": "python3"
  },
  "language_info": {
   "codemirror_mode": {
    "name": "ipython",
    "version": 3
   },
   "file_extension": ".py",
   "mimetype": "text/x-python",
   "name": "python",
   "nbconvert_exporter": "python",
   "pygments_lexer": "ipython3",
   "version": "3.11.4"
  }
 },
 "nbformat": 4,
 "nbformat_minor": 5
}
