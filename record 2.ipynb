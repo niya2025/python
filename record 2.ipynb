{
 "cells": [
  {
   "cell_type": "code",
   "execution_count": 1,
   "id": "704b555b",
   "metadata": {},
   "outputs": [
    {
     "name": "stdout",
     "output_type": "stream",
     "text": [
      "Enter temperature in celsius:100\n",
      "The fahrenheit value is: 212.0\n"
     ]
    }
   ],
   "source": [
    "#program to convert celsius to fahrenheit\n",
    "celsius=float(input(\"Enter temperature in celsius:\"))\n",
    "fahrenheit=(celsius*9/5)+32\n",
    "print(\"The fahrenheit value is:\",fahrenheit)\n"
   ]
  },
  {
   "cell_type": "code",
   "execution_count": 3,
   "id": "1798dab7",
   "metadata": {},
   "outputs": [
    {
     "name": "stdout",
     "output_type": "stream",
     "text": [
      "enter the kilometer:100\n",
      "The miles is: 62.14\n"
     ]
    }
   ],
   "source": [
    "#program to convert kilometer to miles\n",
    "kilometer=float(input(\"enter the kilometer:\"))\n",
    "miles=kilometer*0.62137\n",
    "miles=round(miles,2)\n",
    "print(\"The miles is:\",miles)\n"
   ]
  },
  {
   "cell_type": "code",
   "execution_count": null,
   "id": "d2a58573",
   "metadata": {},
   "outputs": [],
   "source": []
  }
 ],
 "metadata": {
  "kernelspec": {
   "display_name": "Python 3 (ipykernel)",
   "language": "python",
   "name": "python3"
  },
  "language_info": {
   "codemirror_mode": {
    "name": "ipython",
    "version": 3
   },
   "file_extension": ".py",
   "mimetype": "text/x-python",
   "name": "python",
   "nbconvert_exporter": "python",
   "pygments_lexer": "ipython3",
   "version": "3.11.4"
  }
 },
 "nbformat": 4,
 "nbformat_minor": 5
}
