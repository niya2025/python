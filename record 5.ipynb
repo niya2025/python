{
 "cells": [
  {
   "cell_type": "code",
   "execution_count": 2,
   "id": "56966752",
   "metadata": {},
   "outputs": [
    {
     "name": "stdout",
     "output_type": "stream",
     "text": [
      "Enter the list of colors:orange,green,blue,pink\n",
      "list of colors ['orange', 'green', 'blue', 'pink']\n",
      "The first color is: orange\n",
      "The last color is: pink\n"
     ]
    }
   ],
   "source": [
    "#list of colors\n",
    "color=input(\"Enter the list of colors:\")\n",
    "c=color.split(\",\")\n",
    "print(\"list of colors\",c)\n",
    "print(\"The first color is:\",c[0])\n",
    "print(\"The last color is:\",c[-1])"
   ]
  },
  {
   "cell_type": "code",
   "execution_count": 4,
   "id": "b0cab363",
   "metadata": {},
   "outputs": [
    {
     "name": "stdout",
     "output_type": "stream",
     "text": [
      "enter a sequence of number:5,8,3,6\n",
      "[5, 8, 3, 6]\n",
      "sum of all items = 22\n"
     ]
    }
   ],
   "source": [
    "#program to accept sequence of comma seperated numbers and create its list and find the sum of all numbers\n",
    "number = input(\"enter a sequence of number:\")   \n",
    "sep = list(map(int, number.split(\",\")))         \n",
    "print(sep)                                      \n",
    "print(\"sum of all items =\", sum(sep))\n"
   ]
  },
  {
   "cell_type": "code",
   "execution_count": 1,
   "id": "46f3d2f5",
   "metadata": {},
   "outputs": [
    {
     "name": "stdout",
     "output_type": "stream",
     "text": [
      "enter a file name:sam.html\n",
      "extension of this file is: html\n"
     ]
    }
   ],
   "source": [
    "#accept a file name and print its extension\n",
    "file=input(\"enter a file name:\")\n",
    "ext=file.split(\".\")\n",
    "text=ext[-1]\n",
    "print(\"extension of this file is:\",text)"
   ]
  },
  {
   "cell_type": "code",
   "execution_count": null,
   "id": "2dd4eb04",
   "metadata": {},
   "outputs": [],
   "source": []
  }
 ],
 "metadata": {
  "kernelspec": {
   "display_name": "Python 3 (ipykernel)",
   "language": "python",
   "name": "python3"
  },
  "language_info": {
   "codemirror_mode": {
    "name": "ipython",
    "version": 3
   },
   "file_extension": ".py",
   "mimetype": "text/x-python",
   "name": "python",
   "nbconvert_exporter": "python",
   "pygments_lexer": "ipython3",
   "version": "3.11.4"
  }
 },
 "nbformat": 4,
 "nbformat_minor": 5
}
