{
 "cells": [
  {
   "cell_type": "code",
   "execution_count": 5,
   "id": "3a69ac6c",
   "metadata": {},
   "outputs": [
    {
     "name": "stdout",
     "output_type": "stream",
     "text": [
      "enter roll numbers = 1 2 3 4 5\n",
      "enter five names = niy hfh erht rehh eyhft\n",
      "dictionary is=  {'1': 'niy', '2': 'hfh', '3': 'erht', '4': 'rehh', '5': 'eyhft'}\n",
      "in ascending order {'1': 'niy', '2': 'hfh', '3': 'erht', '4': 'rehh', '5': 'eyhft'}\n",
      "in descending order {'5': 'eyhft', '4': 'rehh', '3': 'erht', '2': 'hfh', '1': 'niy'}\n"
     ]
    }
   ],
   "source": [
    "\n",
    "#accept 5 students name and roll numbers and map into dictories and sort to ascending and desendind using sorted().\n",
    "a=input(\"enter roll numbers = \").split()\n",
    "b=input(\"enter five names = \").split()\n",
    "mydict=dict(zip(a,b))\n",
    "print(\"dictionary is= \",mydict )\n",
    "ascending=dict(sorted(mydict.items()))\n",
    "print(\"in ascending order\",ascending)\n",
    "descending=dict(sorted(mydict.items(),reverse=True))\n",
    "print(\"in descending order\",descending)\n",
    "      "
   ]
  },
  {
   "cell_type": "code",
   "execution_count": null,
   "id": "3e621812",
   "metadata": {},
   "outputs": [],
   "source": []
  },
  {
   "cell_type": "code",
   "execution_count": 7,
   "id": "fdac38c5",
   "metadata": {},
   "outputs": [
    {
     "name": "stdout",
     "output_type": "stream",
     "text": [
      "enter 3 roll numbers = 1 2 3\n",
      "enter 3 names = ni riya diya\n",
      "dictionary is=  {'1': 'ni', '2': 'riya', '3': 'diya'}\n",
      "enter 2 roll= 4 5\n",
      "enter 2 names = miya siya\n",
      "dictionary is=  {'4': 'miya', '5': 'siya'}\n",
      "merged dictionary is= {'1': 'ni', '2': 'riya', '3': 'diya', '4': 'miya', '5': 'siya'}\n"
     ]
    }
   ],
   "source": [
    "#accept 2 dict and merge them by using update\n",
    "a=input(\"enter 3 roll numbers = \").split()\n",
    "b=input(\"enter 3 names = \").split()\n",
    "mydict1=dict(zip(a,b))\n",
    "print(\"dictionary is= \",mydict1 )\n",
    "c=input(\"enter 2 roll= \").split()\n",
    "d=input(\"enter 2 names = \").split()\n",
    "mydict2=dict(zip(c,d))\n",
    "print(\"dictionary is= \",mydict2 )\n",
    "mydict1.update(mydict2)\n",
    "print(\"merged dictionary is=\",mydict1)"
   ]
  },
  {
   "cell_type": "code",
   "execution_count": null,
   "id": "4da53457",
   "metadata": {},
   "outputs": [],
   "source": []
  },
  {
   "cell_type": "code",
   "execution_count": null,
   "id": "b13ec169",
   "metadata": {},
   "outputs": [],
   "source": []
  }
 ],
 "metadata": {
  "kernelspec": {
   "display_name": "Python 3 (ipykernel)",
   "language": "python",
   "name": "python3"
  },
  "language_info": {
   "codemirror_mode": {
    "name": "ipython",
    "version": 3
   },
   "file_extension": ".py",
   "mimetype": "text/x-python",
   "name": "python",
   "nbconvert_exporter": "python",
   "pygments_lexer": "ipython3",
   "version": "3.11.4"
  }
 },
 "nbformat": 4,
 "nbformat_minor": 5
}
