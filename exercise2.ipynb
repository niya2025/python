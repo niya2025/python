
{
 "cells": [
  {
   "cell_type": "code",
   "execution_count": 6,
   "id": "7673f435",
   "metadata": {},
   "outputs": [
    {
     "name": "stdout",
     "output_type": "stream",
     "text": [
      "Enter an integer:5\n",
      "the value is: 615\n"
     ]
    }
   ],
   "source": [
    "#accept integer and compute n+nn+nnn\n",
    "import math\n",
    "n=int(input(\"Enter an integer:\"))\n",
    "nn=int(str(n)*2)\n",
    "nnn=int(str(n)*3)\n",
    "result=n+nn+nnn\n",
    "print(\"the value is:\",result)"
   ]
  },
  {
   "cell_type": "markdown",
   "id": "06faa2cb",
   "metadata": {},
   "source": [
    "import math"
   ]
  },
  {
   "cell_type": "code",
   "execution_count": 8,
   "id": "b810f2d3",
   "metadata": {},
   "outputs": [
    {
     "name": "stdout",
     "output_type": "stream",
     "text": [
      "Enter the radiusof the circle:4\n",
      "The area of the circle: 50.26548245743669\n"
     ]
    }
   ],
   "source": [
    "#area of the circle\n",
    "import math\n",
    "radius=float(input(\"Enter the radiusof the circle:\"))\n",
    "area=math.pi*radius*radius\n",
    "print(\"The area of the circle:\",area)"
   ]
  },
  {
   "cell_type": "code",
   "execution_count": null,
   "id": "378aa51c",
   "metadata": {},
   "outputs": [],
   "source": []
  }
 ],
 "metadata": {
  "kernelspec": {
   "display_name": "Python 3 (ipykernel)",
   "language": "python",
   "name": "python3"
  },
  "language_info": {
   "codemirror_mode": {
    "name": "ipython",
    "version": 3
   },
   "file_extension": ".py",
   "mimetype": "text/x-python",
   "name": "python",
   "nbconvert_exporter": "python",
   "pygments_lexer": "ipython3",
   "version": "3.11.4"
  }
 },
 "nbformat": 4,
 "nbformat_minor": 5
}
