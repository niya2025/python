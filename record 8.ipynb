{
 "cells": [
  {
   "cell_type": "code",
   "execution_count": 11,
   "id": "b34ed153",
   "metadata": {},
   "outputs": [
    {
     "name": "stdout",
     "output_type": "stream",
     "text": [
      "Enter the colors of set1:red green blue yellow\n",
      "Enter the colors of set2:green yellow black\n",
      "set1: {'yellow', 'blue', 'red', 'green'}\n",
      "set2: {'yellow', 'black', 'green'}\n",
      "colors from set1 not in set2: {'blue', 'red'}\n"
     ]
    }
   ],
   "source": [
    "#print all colors from set1 not ontained in set2\n",
    "set1=set(input(\"Enter the colors of set1:\").split())\n",
    "set2=set(input(\"Enter the colors of set2:\").split())\n",
    "print(\"set1:\",set1)\n",
    "print(\"set2:\",set2)\n",
    "result=set1-set2\n",
    "print(\"colors from set1 not in set2:\",result)"
   ]
  },
  {
   "cell_type": "code",
   "execution_count": 12,
   "id": "1c803b80",
   "metadata": {},
   "outputs": [
    {
     "name": "stdout",
     "output_type": "stream",
     "text": [
      "Enter the colors of set1:pink yellow green\n",
      "Enter the colors of set2:white black red\n",
      "set1: {'yellow', 'green', 'pink'}\n",
      "set2: {'white', 'black', 'red'}\n",
      "print all colors from set1 and set2: {'yellow', 'white', 'black', 'red', 'green', 'pink'}\n"
     ]
    }
   ],
   "source": [
    "#to print all colors from set1 and set2\n",
    "set1=set(input(\"Enter the colors of set1:\").split())\n",
    "set2=set(input(\"Enter the colors of set2:\").split())\n",
    "print(\"set1:\",set1)\n",
    "print(\"set2:\",set2)\n",
    "result=set1|set2\n",
    "print(\"print all colors from set1 and set2:\",result)"
   ]
  },
  {
   "cell_type": "code",
   "execution_count": null,
   "id": "dc49559d",
   "metadata": {},
   "outputs": [],
   "source": []
  }
 ],
 "metadata": {
  "kernelspec": {
   "display_name": "Python 3 (ipykernel)",
   "language": "python",
   "name": "python3"
  },
  "language_info": {
   "codemirror_mode": {
    "name": "ipython",
    "version": 3
   },
   "file_extension": ".py",
   "mimetype": "text/x-python",
   "name": "python",
   "nbconvert_exporter": "python",
   "pygments_lexer": "ipython3",
   "version": "3.11.4"
  }
 },
 "nbformat": 4,
 "nbformat_minor": 5
}
