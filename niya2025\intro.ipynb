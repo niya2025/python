{
 "cells": [
  {
   "cell_type": "code",
   "execution_count": 1,
   "id": "0214aef6",
   "metadata": {},
   "outputs": [
    {
     "name": "stdout",
     "output_type": "stream",
     "text": [
      "good morning\n"
     ]
    }
   ],
   "source": [
    "print(\"good morning\")"
   ]
  },
  {
   "cell_type": "code",
   "execution_count": 2,
   "id": "fa224d37",
   "metadata": {},
   "outputs": [
    {
     "name": "stdout",
     "output_type": "stream",
     "text": [
      "Nishlam\n"
     ]
    }
   ],
   "source": [
    "print(\"Nishlam\")"
   ]
  },
  {
   "cell_type": "code",
   "execution_count": 3,
   "id": "96ee7b10",
   "metadata": {},
   "outputs": [
    {
     "name": "stdout",
     "output_type": "stream",
     "text": [
      "2\n"
     ]
    }
   ],
   "source": [
    "print(5//2)"
   ]
  },
  {
   "cell_type": "code",
   "execution_count": 4,
   "id": "082903de",
   "metadata": {},
   "outputs": [
    {
     "name": "stdout",
     "output_type": "stream",
     "text": [
      "2.5\n"
     ]
    }
   ],
   "source": [
    "print(5/2)"
   ]
  },
  {
   "cell_type": "code",
   "execution_count": 5,
   "id": "18edea8c",
   "metadata": {},
   "outputs": [
    {
     "name": "stdout",
     "output_type": "stream",
     "text": [
      "8\n"
     ]
    }
   ],
   "source": [
    "print(2*2*2)"
   ]
  },
  {
   "cell_type": "code",
   "execution_count": 6,
   "id": "d8c4e289",
   "metadata": {},
   "outputs": [
    {
     "name": "stdout",
     "output_type": "stream",
     "text": [
      "4\n"
     ]
    }
   ],
   "source": [
    "print(2**2)"
   ]
  },
  {
   "cell_type": "code",
   "execution_count": 7,
   "id": "11d23f75",
   "metadata": {},
   "outputs": [
    {
     "ename": "SyntaxError",
     "evalue": "invalid syntax (3118448607.py, line 1)",
     "output_type": "error",
     "traceback": [
      "\u001b[0;36m  Cell \u001b[0;32mIn[7], line 1\u001b[0;36m\u001b[0m\n\u001b[0;31m    print(2***2)\u001b[0m\n\u001b[0m             ^\u001b[0m\n\u001b[0;31mSyntaxError\u001b[0m\u001b[0;31m:\u001b[0m invalid syntax\n"
     ]
    }
   ],
   "source": [
    "print(2***2)"
   ]
  },
  {
   "cell_type": "code",
   "execution_count": 8,
   "id": "9127440f",
   "metadata": {},
   "outputs": [
    {
     "ename": "SyntaxError",
     "evalue": "unterminated string literal (detected at line 1) (2859211685.py, line 1)",
     "output_type": "error",
     "traceback": [
      "\u001b[0;36m  Cell \u001b[0;32mIn[8], line 1\u001b[0;36m\u001b[0m\n\u001b[0;31m    print('MCA students's')\u001b[0m\n\u001b[0m                         ^\u001b[0m\n\u001b[0;31mSyntaxError\u001b[0m\u001b[0;31m:\u001b[0m unterminated string literal (detected at line 1)\n"
     ]
    }
   ],
   "source": [
    "print('MCA students's')"
   ]
  },
  {
   "cell_type": "code",
   "execution_count": 9,
   "id": "193c672d",
   "metadata": {},
   "outputs": [
    {
     "name": "stdout",
     "output_type": "stream",
     "text": [
      "mca \"students\"\n"
     ]
    }
   ],
   "source": [
    "print('mca \"students\"')"
   ]
  },
  {
   "cell_type": "code",
   "execution_count": 10,
   "id": "96b9c0a2",
   "metadata": {},
   "outputs": [],
   "source": [
    "name=\"niya\""
   ]
  },
  {
   "cell_type": "code",
   "execution_count": 11,
   "id": "4216fb01",
   "metadata": {},
   "outputs": [
    {
     "name": "stdout",
     "output_type": "stream",
     "text": [
      "niya\n"
     ]
    }
   ],
   "source": [
    "n=\"niya\"\n",
    "print(n)"
   ]
  },
  {
   "cell_type": "code",
   "execution_count": 12,
   "id": "0e719c75",
   "metadata": {},
   "outputs": [
    {
     "name": "stdout",
     "output_type": "stream",
     "text": [
      "name= nya\n"
     ]
    }
   ],
   "source": [
    "n=\"nya\"\n",
    "print(\"name=\",n)"
   ]
  },
  {
   "cell_type": "code",
   "execution_count": 13,
   "id": "a57c8f6e",
   "metadata": {},
   "outputs": [
    {
     "name": "stdout",
     "output_type": "stream",
     "text": [
      "name= ny\n"
     ]
    }
   ],
   "source": [
    "n=\"nya\"\n",
    "print(\"name=\",n[0:2])"
   ]
  },
  {
   "cell_type": "code",
   "execution_count": 14,
   "id": "6b58c66d",
   "metadata": {},
   "outputs": [
    {
     "name": "stdout",
     "output_type": "stream",
     "text": [
      "name= n\n"
     ]
    }
   ],
   "source": [
    "n=\"nya\"\n",
    "print(\"name=\",n[0:1])"
   ]
  },
  {
   "cell_type": "code",
   "execution_count": 15,
   "id": "0f25e389",
   "metadata": {},
   "outputs": [
    {
     "name": "stdout",
     "output_type": "stream",
     "text": [
      "name= ya\n"
     ]
    }
   ],
   "source": [
    "n=\"nya\"\n",
    "print(\"name=\",n[1:3])"
   ]
  },
  {
   "cell_type": "code",
   "execution_count": 16,
   "id": "a6250df0",
   "metadata": {},
   "outputs": [
    {
     "name": "stdout",
     "output_type": "stream",
     "text": [
      "name= \n"
     ]
    }
   ],
   "source": [
    "n=\"nya\"\n",
    "print(\"name=\",n[0:0])"
   ]
  },
  {
   "cell_type": "code",
   "execution_count": 17,
   "id": "9c422990",
   "metadata": {},
   "outputs": [
    {
     "name": "stdout",
     "output_type": "stream",
     "text": [
      "name= ny\n"
     ]
    }
   ],
   "source": [
    "n=\"nya\"\n",
    "print(\"name=\",n[:2])"
   ]
  },
  {
   "cell_type": "code",
   "execution_count": null,
   "id": "7685437b",
   "metadata": {},
   "outputs": [],
   "source": []
  }
 ],
 "metadata": {
  "kernelspec": {
   "display_name": "Python 3 (ipykernel)",
   "language": "python",
   "name": "python3"
  },
  "language_info": {
   "codemirror_mode": {
    "name": "ipython",
    "version": 3
   },
   "file_extension": ".py",
   "mimetype": "text/x-python",
   "name": "python",
   "nbconvert_exporter": "python",
   "pygments_lexer": "ipython3",
   "version": "3.11.4"
  }
 },
 "nbformat": 4,
 "nbformat_minor": 5
}
