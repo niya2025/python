{
 "cells": [
  {
   "cell_type": "code",
   "execution_count": null,
   "id": "de4f0d64",
   "metadata": {},
   "outputs": [],
   "source": []
  },
  {
   "cell_type": "code",
   "execution_count": 1,
   "id": "755f575e",
   "metadata": {},
   "outputs": [
    {
     "name": "stdout",
     "output_type": "stream",
     "text": [
      "enter a string:python\n",
      "converted string is nythop\n"
     ]
    }
   ],
   "source": [
    "#program to exchange first nand last char\n",
    "s=str(input(\"enter a string:\"))\n",
    "rev=s[-1]+s[1:-1]+s[0]\n",
    "print(\"converted string is\",rev)"
   ]
  },
  {
   "cell_type": "code",
   "execution_count": 5,
   "id": "36e104c2",
   "metadata": {},
   "outputs": [
    {
     "name": "stdout",
     "output_type": "stream",
     "text": [
      "enter a string:python\n",
      "first 2 and last 2 char of these string is: pyon\n"
     ]
    }
   ],
   "source": [
    "#string made of first2 and lat2 char\n",
    "a=str(input(\"enter a string:\"))\n",
    "r=a[0]+a[1]+a[-2]+a[-1]\n",
    "print(\"first 2 and last 2 char of these string is:\",r)"
   ]
  },
  {
   "cell_type": "code",
   "execution_count": 2,
   "id": "25118067",
   "metadata": {},
   "outputs": [
    {
     "name": "stdout",
     "output_type": "stream",
     "text": [
      "enter the first string:python\n",
      "enter the second string:code\n",
      "The output is: cothon pyde\n"
     ]
    }
   ],
   "source": [
    "#swapping first and second string\n",
    "s1=str(input(\"enter the first string:\"))\n",
    "s2=str(input(\"enter the second string:\"))\n",
    "news1=s2[:2]+s1[2:]\n",
    "news2=s1[:2]+s2[2:]\n",
    "result=s1[:2]+s2[2:]\n",
    "result=news1+\" \"+news2\n",
    "print(\"The output is:\",result)\n"
   ]
  },
  {
   "cell_type": "code",
   "execution_count": 16,
   "id": "578c0d75",
   "metadata": {},
   "outputs": [
    {
     "name": "stdout",
     "output_type": "stream",
     "text": [
      "enter a string:malayalam\n",
      "replaced string is: malayala$\n"
     ]
    }
   ],
   "source": [
    "#possiblity of all occurence\n",
    "n = str(input(\"enter a string:\"))\n",
    "o = n[0]\n",
    "n = n.replace(o, \"$\")   # replace the first character with $\n",
    "print(\"replaced string is:\", o + n[1:])\n"
   ]
  },
  {
   "cell_type": "code",
   "execution_count": null,
   "id": "50fdcfa6",
   "metadata": {},
   "outputs": [],
   "source": []
  },
  {
   "cell_type": "code",
   "execution_count": null,
   "id": "f5c6d3c1",
   "metadata": {},
   "outputs": [],
   "source": []
  }
 ],
 "metadata": {
  "kernelspec": {
   "display_name": "Python 3 (ipykernel)",
   "language": "python",
   "name": "python3"
  },
  "language_info": {
   "codemirror_mode": {
    "name": "ipython",
    "version": 3
   },
   "file_extension": ".py",
   "mimetype": "text/x-python",
   "name": "python",
   "nbconvert_exporter": "python",
   "pygments_lexer": "ipython3",
   "version": "3.11.4"
  }
 },
 "nbformat": 4,
 "nbformat_minor": 5
}
