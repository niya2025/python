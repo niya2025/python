{
 "cells": [
  {
   "cell_type": "code",
   "execution_count": 7,
   "id": "968fefe1",
   "metadata": {},
   "outputs": [
    {
     "name": "stdout",
     "output_type": "stream",
     "text": [
      "Enter first list of integers:3 4 5 6\n",
      "Enter second list of integers:4 7 8 9 5\n",
      "the first list: [3, 4, 5, 6]\n",
      "the second list: [4, 7, 8, 9, 5]\n",
      "list are different length\n",
      "list sum to different values\n",
      "Any value occur is both: {4, 5}\n"
     ]
    }
   ],
   "source": [
    "list1=list(map(int,input(\"Enter first list of integers:\").split()))\n",
    "list2=list(map(int,input(\"Enter second list of integers:\").split()))\n",
    "print(\"the first list:\",list1)\n",
    "print(\"the second list:\",list2)\n",
    "if len(list1)==len(list2):\n",
    "    print(\"both list are of same length\")\n",
    "else:\n",
    "    print(\"list are different length\")\n",
    "if sum(list1)==sum(list2):\n",
    "    print(\"both list sum to the same value\")\n",
    "else :\n",
    "   print(\"list sum to different values\")\n",
    "c=set(list1)&set(list2)\n",
    "if c:\n",
    "    print(\"Any value occur is both:\",c)\n",
    "else:\n",
    "    print(\"No values occur in both:\")\n"
   ]
  },
  {
   "cell_type": "code",
   "execution_count": 4,
   "id": "8e408eb8",
   "metadata": {},
   "outputs": [
    {
     "name": "stdout",
     "output_type": "stream",
     "text": [
      "enter a string:working\n",
      "new string: workingly\n"
     ]
    }
   ],
   "source": [
    "a=input(\"enter a string:\")\n",
    "if a.endswith(\"ing\"):\n",
    "    a=a+\"ly\"\n",
    "    print(\"new string:\",a)\n",
    "else :\n",
    "    a=a+\"ing\"\n",
    "    print(\"new string:\",a)"
   ]
  },
  {
   "cell_type": "code",
   "execution_count": null,
   "id": "2dee7802",
   "metadata": {},
   "outputs": [],
   "source": []
  }
 ],
 "metadata": {
  "kernelspec": {
   "display_name": "Python 3 (ipykernel)",
   "language": "python",
   "name": "python3"
  },
  "language_info": {
   "codemirror_mode": {
    "name": "ipython",
    "version": 3
   },
   "file_extension": ".py",
   "mimetype": "text/x-python",
   "name": "python",
   "nbconvert_exporter": "python",
   "pygments_lexer": "ipython3",
   "version": "3.11.4"
  }
 },
 "nbformat": 4,
 "nbformat_minor": 5
}
