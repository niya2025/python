{
 "cells": [
  {
   "cell_type": "code",
   "execution_count": 14,
   "id": "b9182f55",
   "metadata": {},
   "outputs": [
    {
     "name": "stdout",
     "output_type": "stream",
     "text": [
      "Enter the length of 1st rectangle: 8\n",
      "Enter the breadth of 1st rectangle: 5\n",
      "Enter the length of 2nd rectangle: 9\n",
      "Enter the breadth of 2nd rectangle: 6\n",
      "Area of Rectangle 1: 40\n",
      "Area of Rectangle 2: 54\n",
      "perimeter of rectangle 1: 26\n",
      "perimeter of Rectangle 2: 30\n",
      "Rectangle 2 has a greater area.\n"
     ]
    }
   ],
   "source": [
    "class Rectangle:\n",
    "    def get(self, l, b):\n",
    "        self.l = l\n",
    "        self.b = b\n",
    "\n",
    "    def area(self):\n",
    "        return self.l * self.b\n",
    "\n",
    "    def perimeter(self):\n",
    "        return 2 * (self.l + self.b)\n",
    "\n",
    "\n",
    "r1 = Rectangle()\n",
    "r2 = Rectangle()\n",
    "\n",
    "l1 = int(input(\"Enter the length of 1st rectangle: \"))\n",
    "b1 = int(input(\"Enter the breadth of 1st rectangle: \"))\n",
    "l2 = int(input(\"Enter the length of 2nd rectangle: \"))\n",
    "b2 = int(input(\"Enter the breadth of 2nd rectangle: \"))\n",
    " \n",
    "r1.get(l1,b1)\n",
    "r2.get(l2,b2)\n",
    "\n",
    "print(\"Area of Rectangle 1:\",r1.area())\n",
    "print(\"Area of Rectangle 2:\",r2.area())\n",
    "print(\"perimeter of rectangle 1:\",r1.perimeter())\n",
    "print(\"perimeter of Rectangle 2:\",r2.perimeter())\n",
    "\n",
    "if r1.area() > r2.area():\n",
    "    print(\"Rectangle 1 has a greater area.\")\n",
    "else:\n",
    "    print(\"Rectangle 2 has a greater area.\")\n"
   ]
  },
  {
   "cell_type": "code",
   "execution_count": null,
   "id": "ea43c01c",
   "metadata": {},
   "outputs": [],
   "source": []
  }
 ],
 "metadata": {
  "kernelspec": {
   "display_name": "Python 3 (ipykernel)",
   "language": "python",
   "name": "python3"
  },
  "language_info": {
   "codemirror_mode": {
    "name": "ipython",
    "version": 3
   },
   "file_extension": ".py",
   "mimetype": "text/x-python",
   "name": "python",
   "nbconvert_exporter": "python",
   "pygments_lexer": "ipython3",
   "version": "3.11.4"
  }
 },
 "nbformat": 4,
 "nbformat_minor": 5
}
